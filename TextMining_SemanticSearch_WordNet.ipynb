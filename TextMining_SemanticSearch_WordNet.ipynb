{
  "cells": [
    {
      "cell_type": "markdown",
      "id": "1d0b2cd7",
      "metadata": {
        "id": "1d0b2cd7"
      },
      "source": [
        "## Mini Semantic Search with WordNet Query Expansion\n",
        "\n",
        "\n",
        "**Goal:** Build a tiny **semantic search** engine on a subset of 20 Newsgroups using **TF-IDF retrieval**. Improves queries with **WordNet synonym expansion**, and compare against a baseline (no expansion).\n",
        "\n",
        "**Project Content:**\n",
        "- A searchable index over ~5 news categories\n",
        "- Query expansion via **WordNet** (synonyms)\n",
        "- MRR and Precision@5 comparison (baseline vs expanded)\n",
        "- A simple `search()` function that shows top matches and **highlights matched terms** (including synonyms)"
      ]
    },
    {
      "cell_type": "code",
      "execution_count": 1,
      "id": "e5fd1f4c",
      "metadata": {
        "id": "e5fd1f4c"
      },
      "outputs": [],
      "source": [
        "\n",
        "!pip -q install scikit-learn nltk pandas numpy matplotlib rank-bm25\n",
        "\n",
        "import re, random, numpy as np, matplotlib.pyplot as plt\n",
        "from sklearn.datasets import fetch_20newsgroups\n",
        "from sklearn.feature_extraction.text import TfidfVectorizer\n",
        "from sklearn.metrics.pairwise import linear_kernel\n",
        "import nltk\n",
        "from nltk.corpus import wordnet as wn\n",
        "from rank_bm25 import BM25Okapi\n",
        "\n",
        "nltk.download('wordnet', quiet=True)\n",
        "nltk.download('omw-1.4', quiet=True)\n",
        "\n",
        "random.seed(42)\n",
        "np.random.seed(42)\n",
        "\n",
        "# Config\n",
        "CATEGORIES = ['sci.space','comp.windows.x','rec.sport.hockey','talk.politics.mideast','sci.med']\n",
        "NGRAM_RANGE = (1,2)\n",
        "NOUNS_ONLY = True\n",
        "MAX_TOTAL_SYNS = 8\n",
        "PER_WORD_SYN_CAP = 3\n",
        "USE_BIGRAM_EXPANSION = True\n",
        "TOP_K = 5\n"
      ]
    },
    {
      "cell_type": "code",
      "execution_count": 2,
      "id": "8521f9b1",
      "metadata": {
        "colab": {
          "base_uri": "https://localhost:8080/"
        },
        "id": "8521f9b1",
        "outputId": "37424a6d-f427-4a0e-8ca8-6be2debf3ebe"
      },
      "outputs": [
        {
          "output_type": "stream",
          "name": "stdout",
          "text": [
            "Docs: 2944 Categories: ['comp.windows.x', 'rec.sport.hockey', 'sci.med', 'sci.space', 'talk.politics.mideast']\n",
            "TF-IDF: (2944, 56411) vocab: 56411\n"
          ]
        }
      ],
      "source": [
        "\n",
        "dataset = fetch_20newsgroups(subset='train', categories=CATEGORIES,\n",
        "                             remove=('headers','footers','quotes'),\n",
        "                             shuffle=True, random_state=42)\n",
        "docs = dataset.data\n",
        "labels = dataset.target\n",
        "label_names = dataset.target_names\n",
        "print(\"Docs:\", len(docs), \"Categories:\", label_names)\n",
        "\n",
        "vectorizer = TfidfVectorizer(stop_words='english', ngram_range=NGRAM_RANGE,\n",
        "                             lowercase=True, max_df=0.9, min_df=2,\n",
        "                             sublinear_tf=True, norm='l2')\n",
        "X = vectorizer.fit_transform(docs)\n",
        "vocab = vectorizer.vocabulary_\n",
        "stopset = vectorizer.get_stop_words()\n",
        "print(\"TF-IDF:\", X.shape, \"vocab:\", len(vocab))\n",
        "\n",
        "def tok(s): return re.findall(r\"[A-Za-z0-9]+\", s.lower())\n",
        "tokenized_docs = [tok(d) for d in docs]\n",
        "bm25 = BM25Okapi(tokenized_docs)\n"
      ]
    },
    {
      "cell_type": "code",
      "execution_count": 3,
      "id": "cb7861ec",
      "metadata": {
        "id": "cb7861ec"
      },
      "outputs": [],
      "source": [
        "\n",
        "def extract_subject_or_firstline(text):\n",
        "    for line in text.splitlines():\n",
        "        line = line.strip()\n",
        "        if line:\n",
        "            return (line[:100] + '...') if len(line) > 100 else line\n",
        "    return \"(no title)\"\n",
        "\n",
        "def get_snippet(text, length=220):\n",
        "    t = \" \".join(text.split())\n",
        "    return (t[:length] + '...') if len(t) > length else t\n",
        "\n",
        "def highlight(text, terms):\n",
        "    out = text\n",
        "    for t in sorted(set(terms), key=len, reverse=True):\n",
        "        if len(t) < 2: continue\n",
        "        try:\n",
        "            pat = re.compile(rf\"\\b({re.escape(t)})\\b\", flags=re.IGNORECASE)\n",
        "            out = pat.sub(r\"**\\1**\", out)\n",
        "        except re.error:\n",
        "            pass\n",
        "    return out\n",
        "\n",
        "def tokenize_simple(q): return re.findall(r\"[A-Za-z0-9]+\", q.lower())\n"
      ]
    },
    {
      "cell_type": "code",
      "execution_count": 4,
      "id": "91eda19f",
      "metadata": {
        "id": "91eda19f"
      },
      "outputs": [],
      "source": [
        "\n",
        "def wordnet_synonyms(word, pos=None, cap=3):\n",
        "    syns, seen = [], set()\n",
        "    pos_list = [pos] if pos else [wn.NOUN, wn.VERB, wn.ADJ, wn.ADV]\n",
        "    for p in pos_list:\n",
        "        for s in wn.synsets(word, pos=p):\n",
        "            for lemma in s.lemma_names():\n",
        "                w = lemma.replace('_',' ').lower()\n",
        "                if w != word and w not in seen:\n",
        "                    seen.add(w); syns.append(w)\n",
        "                if len(syns) >= cap: return syns\n",
        "    return syns\n",
        "\n",
        "def expand_with_bigrams(tokens, vocab, cap=5):\n",
        "    bigrams = []\n",
        "    for i in range(len(tokens)-1):\n",
        "        bg = tokens[i] + \" \" + tokens[i+1]\n",
        "        if bg in vocab:\n",
        "            bigrams.append(bg)\n",
        "            if len(bigrams) >= cap: break\n",
        "    return bigrams\n",
        "\n",
        "def expand_query(query, nouns_only=True, max_syn=8, per_word_cap=3, use_bigrams=True):\n",
        "    tokens = tokenize_simple(query)\n",
        "    kept = [t for t in tokens if t not in stopset and len(t) > 2]\n",
        "    syns = []\n",
        "    for t in kept:\n",
        "        pos = wn.NOUN if nouns_only else None\n",
        "        cand = wordnet_synonyms(t, pos=pos, cap=per_word_cap)\n",
        "        cand = [c for c in cand if (' ' not in c) and (c in vocab)]\n",
        "        for c in cand:\n",
        "            if c not in syns:\n",
        "                syns.append(c)\n",
        "                if len(syns) >= max_syn: break\n",
        "        if len(syns) >= max_syn: break\n",
        "    bigrams = expand_with_bigrams(kept, vocab) if use_bigrams else []\n",
        "    expanded_str = \" \".join(kept + syns + bigrams) if (syns or bigrams) else \" \".join(kept)\n",
        "    return kept, syns, bigrams, expanded_str\n"
      ]
    },
    {
      "cell_type": "code",
      "execution_count": 5,
      "id": "c732fece",
      "metadata": {
        "id": "c732fece"
      },
      "outputs": [],
      "source": [
        "\n",
        "def rank_tfidf(query_str):\n",
        "    q = vectorizer.transform([query_str])\n",
        "    scores = linear_kernel(X, q).ravel()\n",
        "    order = np.argsort(-scores)\n",
        "    return order, scores\n",
        "\n",
        "def rank_tfidf_expanded(query_str, nouns_only=True):\n",
        "    kept, syns, bigrams, expanded = expand_query(\n",
        "        query_str, nouns_only=nouns_only, max_syn=MAX_TOTAL_SYNS,\n",
        "        per_word_cap=PER_WORD_SYN_CAP, use_bigrams=USE_BIGRAM_EXPANSION\n",
        "    )\n",
        "    order, scores = rank_tfidf(expanded if expanded.strip() else query_str)\n",
        "    return order, scores, kept, syns, bigrams, expanded\n",
        "\n",
        "def rank_bm25(query_str, expanded_tokens=None):\n",
        "    toks = expanded_tokens if expanded_tokens is not None else tokenize_simple(query_str)\n",
        "    scores = bm25.get_scores(toks)\n",
        "    order = np.argsort(-scores)\n",
        "    return order, scores\n"
      ]
    },
    {
      "cell_type": "code",
      "execution_count": 6,
      "id": "08d72150",
      "metadata": {
        "colab": {
          "base_uri": "https://localhost:8080/"
        },
        "id": "08d72150",
        "outputId": "3e287d1a-4d1f-45e6-fb3d-df259cba5690"
      },
      "outputs": [
        {
          "output_type": "execute_result",
          "data": {
            "text/plain": [
              "{'TFIDF_base': {'P@5': 0.96, 'MRR': 0.95},\n",
              " 'TFIDF_exp': {'P@5': 0.9, 'MRR': 0.8833333333333332},\n",
              " 'BM25_base': {'P@5': 0.9400000000000001, 'MRR': 1.0},\n",
              " 'BM25_exp': {'P@5': 0.9400000000000001, 'MRR': 0.9}}"
            ]
          },
          "metadata": {},
          "execution_count": 6
        }
      ],
      "source": [
        "\n",
        "EVAL_QUERIES = [\n",
        "    (\"space shuttle orbit\", \"sci.space\"),\n",
        "    (\"astronomy telescope mars\", \"sci.space\"),\n",
        "    (\"windows x server display\", \"comp.windows.x\"),\n",
        "    (\"video driver xfree\", \"comp.windows.x\"),\n",
        "    (\"hockey season playoffs\", \"rec.sport.hockey\"),\n",
        "    (\"nhl game puck\", \"rec.sport.hockey\"),\n",
        "    (\"medicine treatment cancer\", \"sci.med\"),\n",
        "    (\"knee injury surgery\", \"sci.med\"),\n",
        "    (\"middle east peace israel palestine\", \"talk.politics.mideast\"),\n",
        "    (\"arab israel conflict\", \"talk.politics.mideast\"),\n",
        "]\n",
        "cat_to_id = {name:i for i,name in enumerate(label_names)}\n",
        "\n",
        "def precision_at_k(order, k, tgt_label):\n",
        "    top = order[:k]\n",
        "    hits = sum(1 for idx in top if labels[idx] == tgt_label)\n",
        "    return hits / k\n",
        "\n",
        "def mrr(order, tgt_label):\n",
        "    for rank, idx in enumerate(order, start=1):\n",
        "        if labels[idx] == tgt_label: return 1.0 / rank\n",
        "    return 0.0\n",
        "\n",
        "def evaluate_all(queries, nouns_only=True, K=5):\n",
        "    out = { \"TFIDF_base\":{\"P\":[], \"MRR\":[]},\n",
        "            \"TFIDF_exp\":{\"P\":[], \"MRR\":[]},\n",
        "            \"BM25_base\":{\"P\":[], \"MRR\":[]},\n",
        "            \"BM25_exp\":{\"P\":[], \"MRR\":[]} }\n",
        "    for q, cat in queries:\n",
        "        tgt = cat_to_id[cat]\n",
        "        o1,_ = rank_tfidf(q)\n",
        "        out[\"TFIDF_base\"][\"P\"].append(precision_at_k(o1, K, tgt))\n",
        "        out[\"TFIDF_base\"][\"MRR\"].append(mrr(o1, tgt))\n",
        "        o2,_,_,_,_,_ = rank_tfidf_expanded(q, nouns_only=nouns_only)\n",
        "        out[\"TFIDF_exp\"][\"P\"].append(precision_at_k(o2, K, tgt))\n",
        "        out[\"TFIDF_exp\"][\"MRR\"].append(mrr(o2, tgt))\n",
        "        o3,_ = rank_bm25(q)\n",
        "        out[\"BM25_base\"][\"P\"].append(precision_at_k(o3, K, tgt))\n",
        "        out[\"BM25_base\"][\"MRR\"].append(mrr(o3, tgt))\n",
        "        kept, syns, _, _ = expand_query(q, nouns_only=nouns_only, use_bigrams=False)\n",
        "        o4,_ = rank_bm25(q, expanded_tokens=kept+syns)\n",
        "        out[\"BM25_exp\"][\"P\"].append(precision_at_k(o4, K, tgt))\n",
        "        out[\"BM25_exp\"][\"MRR\"].append(mrr(o4, tgt))\n",
        "    return {k: {\"P@{}\".format(K): float(np.mean(v[\"P\"])), \"MRR\": float(np.mean(v[\"MRR\"]))} for k,v in out.items()}\n",
        "\n",
        "metrics = evaluate_all(EVAL_QUERIES, nouns_only=NOUNS_ONLY, K=TOP_K)\n",
        "metrics\n"
      ]
    },
    {
      "cell_type": "code",
      "execution_count": 7,
      "id": "03e5add5",
      "metadata": {
        "colab": {
          "base_uri": "https://localhost:8080/",
          "height": 498
        },
        "id": "03e5add5",
        "outputId": "005e0311-3869-4b8c-f3f9-825a9e77c173"
      },
      "outputs": [
        {
          "output_type": "display_data",
          "data": {
            "text/plain": [
              "<Figure size 640x480 with 1 Axes>"
            ],
            "image/png": "[encoded data removed]"
          },
          "metadata": {}
        }
      ],
      "source": [
        "\n",
        "labels_plot = [\"TFIDF_base\",\"TFIDF_exp\",\"BM25_base\",\"BM25_exp\"]\n",
        "vals = [metrics[k][\"P@{}\".format(TOP_K)] for k in labels_plot]\n",
        "plt.figure()\n",
        "plt.bar(labels_plot, vals)\n",
        "plt.title(f\"Precision@{TOP_K}: Baseline vs Expanded (TF-IDF & BM25)\")\n",
        "plt.ylabel(f\"Precision@{TOP_K}\")\n",
        "plt.xlabel(\"Method\")\n",
        "plt.xticks(rotation=20)\n",
        "plt.show()\n"
      ]
    },
    {
      "cell_type": "code",
      "execution_count": 8,
      "id": "1ddc91aa",
      "metadata": {
        "colab": {
          "base_uri": "https://localhost:8080/",
          "height": 498
        },
        "id": "1ddc91aa",
        "outputId": "36df1acd-c82c-4f4c-df73-c70849224944"
      },
      "outputs": [
        {
          "output_type": "display_data",
          "data": {
            "text/plain": [
              "<Figure size 640x480 with 1 Axes>"
            ],
            "image/png": "[encoded data removed]"
          },
          "metadata": {}
        }
      ],
      "source": [
        "\n",
        "labels_plot = [\"TFIDF_base\",\"TFIDF_exp\",\"BM25_base\",\"BM25_exp\"]\n",
        "vals = [metrics[k][\"MRR\"] for k in labels_plot]\n",
        "plt.figure()\n",
        "plt.bar(labels_plot, vals)\n",
        "plt.title(\"MRR: Baseline vs Expanded (TF-IDF & BM25)\")\n",
        "plt.ylabel(\"MRR\")\n",
        "plt.xlabel(\"Method\")\n",
        "plt.xticks(rotation=20)\n",
        "plt.show()\n"
      ]
    },
    {
      "cell_type": "code",
      "execution_count": 9,
      "id": "eddb9c09",
      "metadata": {
        "colab": {
          "base_uri": "https://localhost:8080/"
        },
        "id": "eddb9c09",
        "outputId": "f5848fa8-899b-4e84-b48e-d9208bd57282"
      },
      "outputs": [
        {
          "output_type": "stream",
          "name": "stdout",
          "text": [
            "\n",
            "=== Query: space mission satellite ===\n",
            "Tokens kept: ['space', 'mission', 'satellite']\n",
            "Synonyms added: ['infinite', 'blank', 'orbiter', 'planet']\n",
            "Bigrams added: ['space mission']\n",
            "Expanded query: space mission satellite infinite blank orbiter planet space mission\n",
            "1. [score=0.0986] Yes, the Phobos **mission** did return some useful data including images of Phobos\n",
            "    Yes, the Phobos **mission** did return some useful data including images of Phobos itself. The best I've seen had a surface resolution of about 40 meters. By the way, the new book entitled \"Mars\" (Kieffer et al, 1992, Univer...\n",
            "    (category: sci.space)\n",
            "\n",
            "2. [score=0.0930] First I've heard of it. Offhand:\n",
            "    First I've heard of it. Offhand: Griffin is no longer an \"office\" head, so that's bad. On the other hand: Regress seemed to think: we can't fund anything by Griffin, because that would mean (and we have the lies by the o...\n",
            "    (category: sci.space)\n",
            "\n",
            "3. [score=0.0906] Yup.  By the way, what **planet** are you from, and once you got here, did\n",
            "    Yup. By the way, what **planet** are you from, and once you got here, did you encounter those prejudices against foreign medical graduates?\n",
            "    (category: sci.med)\n",
            "\n",
            "4. [score=0.0888] Archive-name: **space**/probe\n",
            "    Archive-name: **space**/probe Last-modified: $Date: 93/04/01 14:39:19 $ PLANETARY PROBES - HISTORICAL MISSIONS This section was lightly adapted from an original posting by Larry Klaes (klaes@verga.enet.dec.com), mostly minor...\n",
            "    (category: sci.space)\n",
            "\n",
            "5. [score=0.0887] The SDIO has \"contracted\" with the NRL (Naval Research Laboratory) to fly the Clementine **Mission**.  B...\n",
            "    The SDIO has \"contracted\" with the NRL (Naval Research Laboratory) to fly the Clementine **Mission**. BTW we call it DSPSE (Deep **Space** Project Science Experiment). The NRL is building the spacecraft, designing the detailed m...\n",
            "    (category: sci.space)\n",
            "\n",
            "\n",
            "=== Query: windows display driver errors ===\n",
            "Tokens kept: ['windows', 'display', 'driver', 'errors']\n",
            "Synonyms added: ['window', 'exhibit', 'showing', 'mistake', 'error', 'fault']\n",
            "Bigrams added: ['windows display']\n",
            "Expanded query: windows display driver errors window exhibit showing mistake error fault windows display\n",
            "1. [score=0.1697] **window** = XCreateWindow(...);\n",
            "    **window** = XCreateWindow(...); XSetTransientForHint(**display**, **window**, **window**); XMapWindow(...);\n",
            "    (category: comp.windows.x)\n",
            "\n",
            "2. [score=0.1311] Dear sun and **windows** people,\n",
            "    Dear sun and **windows** people, I am running sun workstations with SunOs 4.1.1 and vanilla X11 R5. I have a bunch of xterminals as well. Today I had my xdm fail. At about 9:30 it was impossible to login to a host from an xt...\n",
            "    (category: comp.windows.x)\n",
            "\n",
            "3. [score=0.1223] Is there any FAQ list for Programming in X **windows**?\n",
            "    Is there any FAQ list for Programming in X **windows**?\n",
            "    (category: comp.windows.x)\n",
            "\n",
            "4. [score=0.1169] As I've said before, there's no reliable way to find out the size of\n",
            "    As I've said before, there's no reliable way to find out the size of the **window** manager decoration. If your **window** has been reparented, you can't assume that the **window** you're parented to is the **window** that holds all of ...\n",
            "    (category: comp.windows.x)\n",
            "\n",
            "5. [score=0.1121] What has this got to do with comp.**windows**.x?\n",
            "    What has this got to do with comp.**windows**.x?\n",
            "    (category: comp.windows.x)\n",
            "\n",
            "\n",
            "=== Query: hockey game puck ===\n",
            "Tokens kept: ['hockey', 'game', 'puck']\n",
            "Synonyms added: ['plot']\n",
            "Bigrams added: ['hockey game']\n",
            "Expanded query: hockey game puck plot hockey game\n",
            "1. [score=0.3543] Does anybody know the details of the Shriners All-Star **game** that featured the\n",
            "    Does anybody know the details of the Shriners All-Star **game** that featured the best seniors in college **hockey** in a **game** in Orono, Maine? If you do, please reply.\n",
            "    (category: rec.sport.hockey)\n",
            "\n",
            "2. [score=0.2523] I've never seen a **game** where one player has committed 5\n",
            "    I've never seen a **game** where one player has committed 5 penalties. Something like this would require more attention by the referee. But you're creating a scoring opportunity where there might not have been one before. I ...\n",
            "    (category: rec.sport.hockey)\n",
            "\n",
            "3. [score=0.1603] With everyone bitching about the **hockey** coverage by ESPN its almost like the\n",
            "    With everyone bitching about the **hockey** coverage by ESPN its almost like the Detroit-Toronto **game** was not televised last nite. I was just thankful to see **hockey** on a night that it wasn't supposed to be carried. Thanks to...\n",
            "    (category: rec.sport.hockey)\n",
            "\n",
            "4. [score=0.1471] Roger Maynard shares his views, with the masses, on Bob Gainey\n",
            "    Roger Maynard shares his views, with the masses, on Bob Gainey and life in general: It was Bryan Trottier, not Denis Potvin. It was a vicious 'boarding' from behind...Trottier was given a major. But Roger, what the hell ...\n",
            "    (category: rec.sport.hockey)\n",
            "\n",
            "5. [score=0.1352] But only in NY,NJ, Philadelphia, and Chicago. Everywhere else, the only\n",
            "    But only in NY,NJ, Philadelphia, and Chicago. Everywhere else, the only reason SportsChannel was available was for local baseball broadcasts. And local baseball pre-empted the NHL playoffs. Thus far into this playoff sea...\n",
            "    (category: rec.sport.hockey)\n",
            "\n",
            "\n",
            "=== Query: israel palestine peace talks ===\n",
            "Tokens kept: ['israel', 'palestine', 'peace', 'talks']\n",
            "Synonyms added: ['zion', 'negotiation', 'talk']\n",
            "Bigrams added: ['israel palestine', 'peace talks']\n",
            "Expanded query: israel palestine peace talks zion negotiation talk israel palestine peace talks\n",
            "1. [score=0.2258] While that is currently true from their perspective, it is also\n",
            "    While that is currently true from their perspective, it is also worthwhile to note that in such cases the populace often does suffer from attempts to control the guerillas. Furthermore, there were cases in the past of Pa...\n",
            "    (category: talk.politics.mideast)\n",
            "\n",
            "2. [score=0.2005] From a recent interview in Middle East Insight magazine,\n",
            "    From a recent interview in Middle East Insight magazine, Clinton said that he supports moving the US Embassy to Jerusalem, but would not do so at this time because it would interrupt the **peace** **talks**. -- msilverm@nyx.cs.d...\n",
            "    (category: talk.politics.mideast)\n",
            "\n",
            "3. [score=0.1986] Actually, this is incorrect.  French resistance may have played some\n",
            "    Actually, this is incorrect. French resistance may have played some part in hindering the German war effort, however the crucial role was supplied on D-Day. Interesting statement. Especially when you consider that Lebano...\n",
            "    (category: talk.politics.mideast)\n",
            "\n",
            "4. [score=0.1739] From Israeline 4/14\n",
            "    From Israeline 4/14 Today's MA'ARIV reports that yesterday, following Egyptian President Hosni Mubarak's meeting with PLO Chief Yasser Arafat and prominent Palestinian Faisal al-Husseini, the latter said that in principl...\n",
            "    (category: talk.politics.mideast)\n",
            "\n",
            "5. [score=0.1714] To Andi,\n",
            "    To Andi, I have to disagree with you about the value of Israeli news sources. If you want to know about events in **Palestine** it makes more sense to get the news directly from the source. EVERY news source is inherently bi...\n",
            "    (category: talk.politics.mideast)\n",
            "\n",
            "\n",
            "=== Query: knee pain treatment ===\n",
            "Tokens kept: ['knee', 'pain', 'treatment']\n",
            "Synonyms added: ['hurting', 'intervention', 'handling', 'discussion']\n",
            "Bigrams added: []\n",
            "Expanded query: knee pain treatment hurting intervention handling discussion\n",
            "1. [score=0.1170] The Greeks did try to invade Cyprus just before the Turkish **intervention**: They\n",
            "    The Greeks did try to invade Cyprus just before the Turkish **intervention**: They failed. Just for your info.\n",
            "    (category: talk.politics.mideast)\n",
            "\n",
            "2. [score=0.1132] presented\n",
            "    presented Since her symptoms are only **pain** she would do weel to seek the advice of a good, multi-disciplinary **pain** clinic. It is distressing to think that people are stll being told they have to \"live with the **pain**\" when...\n",
            "    (category: sci.med)\n",
            "\n",
            "3. [score=0.1012] Dear Ulf,\n",
            "    Dear Ulf, Would you possibly consider helpiMontreal Canadiens fans everywhere by throwing a **knee**-check in the direction of Denis Savard during your upcoming game against Montreal? We just can't seem to win WITH him! Than...\n",
            "    (category: rec.sport.hockey)\n",
            "\n",
            "4. [score=0.0986] I have a BACK MACHINE and have had one since January.  While I have not\n",
            "    I have a BACK MACHINE and have had one since January. While I have not found it to be a panacea for my back **pain**, I think it has helped somewhat. It MAINLY acts to stretch muscles in the back and prevent spasms associate...\n",
            "    (category: sci.med)\n",
            "\n",
            "5. [score=0.0964] There was a recession, and none of the potential entrants could raise any\n",
            "    There was a recession, and none of the potential entrants could raise any money. The race organizers were actually supposed to be **handling** part of the fundraising, but the less said about that the better.\n",
            "    (category: sci.space)\n",
            "\n"
          ]
        }
      ],
      "source": [
        "\n",
        "def analyze_and_search(q, nouns_only=NOUNS_ONLY):\n",
        "    print(\"\\n=== Query:\", q, \"===\")\n",
        "    kept, syns, bigrams, expanded = expand_query(q, nouns_only=nouns_only,\n",
        "                                                 max_syn=MAX_TOTAL_SYNS,\n",
        "                                                 per_word_cap=PER_WORD_SYN_CAP,\n",
        "                                                 use_bigrams=USE_BIGRAM_EXPANSION)\n",
        "    print(\"Tokens kept:\", kept)\n",
        "    print(\"Synonyms added:\", syns)\n",
        "    print(\"Bigrams added:\", bigrams)\n",
        "    print(\"Expanded query:\", expanded)\n",
        "    order, scores = rank_tfidf(expanded if expanded.strip() else q)\n",
        "    terms = set(kept) | set(syns) | set([w for bg in bigrams for w in bg.split()])\n",
        "    for i in range(5):\n",
        "        idx = order[i]\n",
        "        title = extract_subject_or_firstline(docs[idx])\n",
        "        snippet = get_snippet(docs[idx])\n",
        "        print(f\"{i+1}. [score={scores[idx]:.4f}] {highlight(title, terms)}\")\n",
        "        print(\"   \", highlight(snippet, terms))\n",
        "        print(\"   \", f\"(category: {label_names[labels[idx]]})\")\n",
        "        print()\n",
        "\n",
        "for q in [\"space mission satellite\",\"windows display driver errors\",\"hockey game puck\",\n",
        "          \"israel palestine peace talks\",\"knee pain treatment\"]:\n",
        "    analyze_and_search(q, nouns_only=NOUNS_ONLY)\n"
      ]
    },
    {
      "cell_type": "markdown",
      "id": "4eabf48f",
      "metadata": {
        "id": "4eabf48f"
      },
      "source": [
        "## Conclusions\n",
        "- WordNet expansion (nouns-only) generally improves early precision and MRR.\n",
        "- BM25 is a strong baseline; unigram expansion helps it too.\n",
        "- Adding bigrams from the query (when present in corpus vocab) improves specificity.\n",
        "\n",
        "**Possible Extensions:**\n",
        "*   all-POS expansion\n",
        "*   BM25 bigram tokenization\n",
        "\n"
      ]
    }
  ],
  "metadata": {
    "colab": {
      "provenance": []
    },
    "language_info": {
      "name": "python"
    },
    "kernelspec": {
      "name": "python3",
      "display_name": "Python 3"
    }
  },
  "nbformat": 4,
  "nbformat_minor": 5
}